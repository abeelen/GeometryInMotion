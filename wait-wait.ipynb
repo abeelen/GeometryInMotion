{
 "metadata": {
  "name": "",
  "signature": "sha256:8752978c80c65a881185e8b3699bf51d6786e2bd023e1c0b6d0843071bbf9168"
 },
 "nbformat": 3,
 "nbformat_minor": 0,
 "worksheets": [
  {
   "cells": [
    {
     "cell_type": "code",
     "collapsed": false,
     "input": [
      "%matplotlib \n",
      " \n",
      "import numpy as np\n",
      "import matplotlib.pyplot as plt\n",
      "import matplotlib.animation as manimation\n",
      "\n",
      "plt.ion()"
     ],
     "language": "python",
     "metadata": {},
     "outputs": [
      {
       "output_type": "stream",
       "stream": "stdout",
       "text": [
        "Using matplotlib backend: TkAgg\n"
       ]
      },
      {
       "output_type": "stream",
       "stream": "stderr",
       "text": [
        "/usr/lib/python2.7/dist-packages/matplotlib/__init__.py:874: UserWarning: axes.color_cycle is deprecated and replaced with axes.prop_cycle; please use the latter.\n",
        "  warnings.warn(self.msg_depr % (key, alt_key))\n"
       ]
      }
     ],
     "prompt_number": 1
    },
    {
     "cell_type": "code",
     "collapsed": false,
     "input": [
      "frames = 100\n",
      "diff_max = np.pi\n",
      "diff_min = np.pi/10\n",
      "\n",
      "npoints=50"
     ],
     "language": "python",
     "metadata": {},
     "outputs": [],
     "prompt_number": 2
    },
    {
     "cell_type": "code",
     "collapsed": false,
     "input": [
      "# We want a square figure with a black background\n",
      "\n",
      "fig = plt.figure(facecolor='k', figsize=(5,5))\n",
      "\n",
      "# Obviously a polar plot and enough space to see all the curves\n",
      "ax = fig.add_subplot(111, polar=True)\n",
      "ax.set_xlim(0,1.1)\n",
      "ax.set_ylim(0,1.1)\n",
      "\n",
      "# Let's put everything in black and remove the axis \n",
      "ax.set_axis_bgcolor('black')\n",
      "ax.xaxis.set_visible(False)\n",
      "ax.yaxis.set_visible(False)\n",
      "for spine in ax.spines.itervalues():\n",
      "    spine.set_visible(False)\n"
     ],
     "language": "python",
     "metadata": {},
     "outputs": [],
     "prompt_number": 3
    },
    {
     "cell_type": "code",
     "collapsed": false,
     "input": [
      "x = np.linspace(0,2*np.pi,npoints)\n",
      "\n",
      "line = ax.plot(np.zeros_like(x), np.ones_like(x), color='w', linewidth=40, solid_capstyle='round',solid_joinstyle='round')[0]\n",
      "\n",
      "fig.tight_layout()"
     ],
     "language": "python",
     "metadata": {},
     "outputs": [],
     "prompt_number": 4
    },
    {
     "cell_type": "code",
     "collapsed": false,
     "input": [
      "def init():\n",
      "    return line\n",
      "\n",
      "def basic_motion(iframe):\n",
      "    return (np.sin(iframe*np.pi/(frames-1)-np.pi/2)+1)/2*2*np.pi+iframe*2*np.pi/(frames-1)\n",
      "\n",
      "def diff_motion(iframe):\n",
      "    return -diff_min+(np.sin(iframe*2*np.pi/(frames-1)+np.pi/2)-1)/2*diff_max\n",
      "\n",
      "def update_image(iframe):\n",
      "    x = np.linspace(basic_motion(iframe), basic_motion(iframe)+diff_motion(iframe), npoints)\n",
      "    line.set_xdata(x)\n",
      "    return line\n"
     ],
     "language": "python",
     "metadata": {},
     "outputs": [],
     "prompt_number": 5
    },
    {
     "cell_type": "code",
     "collapsed": false,
     "input": [
      "map_animation = manimation.FuncAnimation(fig, update_image, init_func=init, frames=frames, interval=50, repeat=True)\n",
      "plt.show()"
     ],
     "language": "python",
     "metadata": {},
     "outputs": [],
     "prompt_number": 6
    },
    {
     "cell_type": "code",
     "collapsed": false,
     "input": [
      "map_animation.save('wait-wait.gif', writer='imagemagic', dpi=40, fps=25, savefig_kwargs=dict(facecolor=fig.get_facecolor(), edgecolor='none'))"
     ],
     "language": "python",
     "metadata": {},
     "outputs": [
      {
       "output_type": "stream",
       "stream": "stderr",
       "text": [
        "/usr/lib/python2.7/dist-packages/matplotlib/animation.py:746: UserWarning: MovieWriter imagemagic unavailable\n",
        "  warnings.warn(\"MovieWriter %s unavailable\" % writer)\n"
       ]
      }
     ],
     "prompt_number": 7
    },
    {
     "cell_type": "markdown",
     "metadata": {},
     "source": [
      "And if everything worked properly you should get a tidy gif : \n",
      "<img src='wait-wait.gif'/>"
     ]
    }
   ],
   "metadata": {}
  }
 ]
}