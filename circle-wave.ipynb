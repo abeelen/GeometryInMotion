{
 "metadata": {
  "name": "",
  "signature": "sha256:f30402e115bf43412f8f35d1e83168891153789d05f29cd60a0f5791c623e081"
 },
 "nbformat": 3,
 "nbformat_minor": 0,
 "worksheets": [
  {
   "cells": [
    {
     "cell_type": "markdown",
     "metadata": {},
     "source": [
      "# Circle-wave\n",
      "\n",
      "Inspired by https://dribbble.com/shots/1696376-Circle-wave\n",
      "\n",
      "They are several ways to produce such a plot : \n",
      "* fixed rotating curve\n",
      "* moving filter to a fixed curve\n",
      "\n",
      "I tried the second approach here"
     ]
    },
    {
     "cell_type": "code",
     "collapsed": false,
     "input": [
      "%matplotlib \n",
      " \n",
      "import numpy as np\n",
      "import matplotlib.pyplot as plt\n",
      "import matplotlib.animation as manimation\n",
      "\n",
      "plt.ion()"
     ],
     "language": "python",
     "metadata": {},
     "outputs": []
    },
    {
     "cell_type": "code",
     "collapsed": false,
     "input": [
      "nwave = 8\n",
      "amp_wave = 0.1\n",
      "rad_wave = 0.8\n",
      "frames = 100\n",
      "\n",
      "npoints=500"
     ],
     "language": "python",
     "metadata": {},
     "outputs": []
    },
    {
     "cell_type": "code",
     "collapsed": false,
     "input": [
      "# We want a square figure with a black background\n",
      "\n",
      "fig = plt.figure(facecolor='k', figsize=(5,5))\n",
      "\n",
      "# Obviously a polar plot and enough space to see all the curves\n",
      "ax = fig.add_subplot(111, polar=True)\n",
      "ax.set_xlim(0,rad_wave+amp_wave*1.1)\n",
      "ax.set_ylim(0,rad_wave+amp_wave*1.1)\n",
      "\n",
      "# Let's put everything in black and remove the axis \n",
      "ax.set_axis_bgcolor('black')\n",
      "ax.xaxis.set_visible(False)\n",
      "ax.yaxis.set_visible(False)\n",
      "for spine in ax.spines.itervalues():\n",
      "    spine.set_visible(False)\n"
     ],
     "language": "python",
     "metadata": {},
     "outputs": []
    },
    {
     "cell_type": "markdown",
     "metadata": {},
     "source": [
      "We basically need two cosine plots"
     ]
    },
    {
     "cell_type": "code",
     "collapsed": false,
     "input": [
      "x = np.linspace(0,2*np.pi,npoints)\n",
      "\n",
      "plots = [ ax.plot(x, rad_wave+amp_wave*np.cos(nwave*x), color='w', linewidth=4)[0], \\\n",
      "          ax.plot(x, rad_wave-amp_wave*np.cos(nwave*x), color='w', linewidth=4)[0] ]\n",
      "\n",
      "fig.tight_layout()"
     ],
     "language": "python",
     "metadata": {},
     "outputs": []
    },
    {
     "cell_type": "markdown",
     "metadata": {},
     "source": [
      "We can define an atenuation filter on those plots, let's try a simple gaussian"
     ]
    },
    {
     "cell_type": "code",
     "collapsed": false,
     "input": [
      "tau = np.exp(-(x-np.pi)**2/(2*(np.pi/4)**2))\n",
      "\n",
      "plots[0].set_ydata(rad_wave+amp_wave*np.cos(nwave*x)*tau)\n",
      "plots[1].set_ydata(rad_wave-amp_wave*np.cos(nwave*x)*tau)"
     ],
     "language": "python",
     "metadata": {},
     "outputs": []
    },
    {
     "cell_type": "markdown",
     "metadata": {},
     "source": [
      "Looks good enough, we can try to animate it by shifting the filter"
     ]
    },
    {
     "cell_type": "code",
     "collapsed": false,
     "input": [
      "def init():\n",
      "    return plots\n",
      "\n",
      "def update_image(iframe):\n",
      "    global x\n",
      "    tau = np.roll( np.exp(-(x-np.pi)**2/(2*(np.pi/4)**2)), -int(iframe*1.0/frames*npoints))\n",
      "    plots[0].set_ydata( rad_wave+amp_wave*np.cos(nwave*x)*tau )\n",
      "    plots[1].set_ydata( rad_wave-amp_wave*np.cos(nwave*x)*tau )\n",
      "\n",
      "    return plots\n"
     ],
     "language": "python",
     "metadata": {},
     "outputs": []
    },
    {
     "cell_type": "code",
     "collapsed": false,
     "input": [
      "map_animation = manimation.FuncAnimation(fig, update_image, init_func=init, frames=frames, interval=50, repeat=True)\n",
      "plt.show()"
     ],
     "language": "python",
     "metadata": {},
     "outputs": []
    },
    {
     "cell_type": "markdown",
     "metadata": {},
     "source": [
      "And we can simply save this animation as a gif"
     ]
    },
    {
     "cell_type": "code",
     "collapsed": false,
     "input": [
      "map_animation.save('circle-wave.gif', writer='imagemagic', dpi=40, fps=25, savefig_kwargs=dict(facecolor=fig.get_facecolor(), edgecolor='none'))"
     ],
     "language": "python",
     "metadata": {},
     "outputs": []
    },
    {
     "cell_type": "markdown",
     "metadata": {},
     "source": [
      "<img file='circle-wave.gif'>"
     ]
    },
    {
     "cell_type": "markdown",
     "metadata": {},
     "source": [
      "And if everything worked properly you should get a tidy gif : \n",
      "<img src='circle-wave.gif'/>"
     ]
    }
   ],
   "metadata": {}
  }
 ]
}